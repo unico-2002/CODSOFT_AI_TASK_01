{
  "cells": [
    {
      "cell_type": "code",
      "execution_count": null,
      "metadata": {
        "colab": {
          "background_save": true,
          "base_uri": "https://localhost:8080/"
        },
        "id": "peJ5FbNemPIz",
        "outputId": "cdab56c0-2432-43d6-b757-abc14c7ec821"
      },
      "outputs": [
        {
          "output_type": "stream",
          "name": "stdout",
          "text": [
            "Loaded 'bot.json' successfully!\n",
            "You: hi\n",
            "Bot: Hey there!\n",
            "You: nice to meet you\n",
            "Bot: The pleasure is all mine!\n"
          ]
        }
      ],
      "source": [
        "import json\n",
        "import re\n",
        "import random_responses\n",
        "\n",
        "\n",
        "# Load JSON data\n",
        "def load_json(file):\n",
        "    with open(file) as bot_responses:\n",
        "        print(f\"Loaded '{file}' successfully!\")\n",
        "        return json.load(bot_responses)\n",
        "\n",
        "\n",
        "# Store JSON data\n",
        "response_data = load_json(\"bot.json\")\n",
        "\n",
        "\n",
        "def get_response(input_string):\n",
        "    split_message = re.split(r'\\s+|[,;?!.-]\\s*', input_string.lower())\n",
        "    score_list = []\n",
        "\n",
        "    # Check all the responses\n",
        "    for response in response_data:\n",
        "        response_score = 0\n",
        "        required_score = 0\n",
        "        required_words = response[\"required_words\"]\n",
        "\n",
        "        # Check if there are any required words\n",
        "        if required_words:\n",
        "            for word in split_message:\n",
        "                if word in required_words:\n",
        "                    required_score += 1\n",
        "\n",
        "        # Amount of required words should match the required score\n",
        "        if required_score == len(required_words):\n",
        "            # print(required_score == len(required_words))\n",
        "            # Check each word the user has typed\n",
        "            for word in split_message:\n",
        "                # If the word is in the response, add to the score\n",
        "                if word in response[\"user_input\"]:\n",
        "                    response_score += 1\n",
        "\n",
        "        # Add score to list\n",
        "        score_list.append(response_score)\n",
        "        # Debugging: Find the best phrase\n",
        "        # print(response_score, response[\"user_input\"])\n",
        "\n",
        "    # Find the best response and return it if they're not all 0\n",
        "    best_response = max(score_list)\n",
        "    response_index = score_list.index(best_response)\n",
        "\n",
        "    # Check if input is empty\n",
        "    if input_string == \"\":\n",
        "        return \"Please type something so we can chat :(\"\n",
        "\n",
        "    # If there is no good response, return a random one.\n",
        "    if best_response != 0:\n",
        "        return response_data[response_index][\"bot_response\"]\n",
        "\n",
        "    return random_responses.random_string()\n",
        "\n",
        "\n",
        "while True:\n",
        "    user_input = input(\"You: \")\n",
        "    print(\"Bot:\", get_response(user_input))"
      ]
    },
    {
      "cell_type": "code",
      "execution_count": null,
      "metadata": {
        "id": "EdloQrJqk1Da"
      },
      "outputs": [],
      "source": []
    }
  ],
  "metadata": {
    "colab": {
      "provenance": []
    },
    "kernelspec": {
      "display_name": "Python 3",
      "name": "python3"
    },
    "language_info": {
      "name": "python"
    }
  },
  "nbformat": 4,
  "nbformat_minor": 0
}